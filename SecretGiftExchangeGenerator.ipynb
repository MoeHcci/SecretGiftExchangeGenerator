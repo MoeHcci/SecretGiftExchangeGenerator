{
 "cells": [
  {
   "cell_type": "markdown",
   "metadata": {},
   "source": [
    "### Question \n",
    "- Given a file of participants, \n",
    "- Each participant should be randomly assigned another participant to get a gift for. \n",
    "- A participant should not be assigned to get themselves a gift,and additionally it should be possible to predefine some assignments that are not allowed. \n",
    "- A secret gift exchange generator would probably notify the participants of their assignment by email, but for this purpose there is no need to actually send an email. In place of that you can just have a print statement that is something like \"Notifying asa@vitalbio.com that he is assigned to get a gift for Leah Skerl\".\n",
    "\n",
    "- Preferred submission format is a github link to a repo with the files in it that we need along with a README that describes your approach and how to run it"
   ]
  },
  {
   "cell_type": "code",
   "execution_count": 28,
   "metadata": {},
   "outputs": [],
   "source": [
    "import pandas as pd \n",
    "import numpy as np\n",
    "import random"
   ]
  },
  {
   "cell_type": "code",
   "execution_count": 178,
   "metadata": {},
   "outputs": [],
   "source": [
    "def secreteGift (x):\n",
    "    #Import the list of names \n",
    "    names = pd.read_excel(x, engine=\"odf\")\n",
    "\n",
    "    #Randmoly shuffling the list of all the names \n",
    "    names.iloc[:,0]= names.iloc[:,0].sample(frac=1).values\n",
    "\n",
    "    list_names = []\n",
    "    for x in names.iloc[:,0]:\n",
    "        list_names.append(x)\n",
    "    \n",
    "    print ('The list of people is: ')\n",
    "    print(list_names)\n",
    "\n",
    "    #if statement to remove one person at random\n",
    "    if len(list_names)%2:\n",
    "        personnotinvovled = list_names.pop(random.randrange(len(list_names)))\n",
    "        print ('\\n')\n",
    "        print ('The person we removed is ',personnotinvovled)\n",
    "        \n",
    "        print ('\\n')\n",
    "\n",
    "    #Assigning each person to a person\n",
    "    for idx,x in enumerate(range (0, len(list_names), 1)):\n",
    "                \n",
    "                try:    \n",
    "                    print(list_names[x],' is assigned to ,', list_names[x+1])\n",
    "            \n",
    "                except:\n",
    "                     pass\n",
    "\n",
    "    print(list_names[len(list_names)-1] ,' is assigned to ,', list_names[0])\n",
    "\n",
    "    "
   ]
  },
  {
   "cell_type": "code",
   "execution_count": 179,
   "metadata": {},
   "outputs": [
    {
     "name": "stdout",
     "output_type": "stream",
     "text": [
      "The list of people is: \n",
      "['emily', 'asa', 'ali', 'mohamd ', 'becky ', 'bradly ', 'mike ', 'doug ', 'leah']\n",
      "\n",
      "\n",
      "The person we removed is  emily\n",
      "\n",
      "\n",
      "asa  is assigned to , ali\n",
      "ali  is assigned to , mohamd \n",
      "mohamd   is assigned to , becky \n",
      "becky   is assigned to , bradly \n",
      "bradly   is assigned to , mike \n",
      "mike   is assigned to , doug \n",
      "doug   is assigned to , leah\n",
      "leah  is assigned to , asa\n"
     ]
    }
   ],
   "source": [
    "secreteGift(\"listofnames.ods\")"
   ]
  }
 ],
 "metadata": {
  "kernelspec": {
   "display_name": "Python 3",
   "language": "python",
   "name": "python3"
  },
  "language_info": {
   "codemirror_mode": {
    "name": "ipython",
    "version": 3
   },
   "file_extension": ".py",
   "mimetype": "text/x-python",
   "name": "python",
   "nbconvert_exporter": "python",
   "pygments_lexer": "ipython3",
   "version": "3.8.10"
  },
  "orig_nbformat": 4
 },
 "nbformat": 4,
 "nbformat_minor": 2
}
